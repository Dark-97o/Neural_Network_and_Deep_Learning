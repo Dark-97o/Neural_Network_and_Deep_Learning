{
  "cells": [
    {
      "cell_type": "code",
      "source": [
        "!pip install torchviz"
      ],
      "metadata": {
        "colab": {
          "base_uri": "https://localhost:8080/"
        },
        "id": "YYlyWiZ5zNwX",
        "outputId": "ef68304d-e687-4d62-83d7-36601f7831fa"
      },
      "id": "YYlyWiZ5zNwX",
      "execution_count": 2,
      "outputs": [
        {
          "output_type": "stream",
          "name": "stdout",
          "text": [
            "Collecting torchviz\n",
            "  Downloading torchviz-0.0.3-py3-none-any.whl.metadata (2.1 kB)\n",
            "Requirement already satisfied: torch in /usr/local/lib/python3.12/dist-packages (from torchviz) (2.8.0+cu126)\n",
            "Requirement already satisfied: graphviz in /usr/local/lib/python3.12/dist-packages (from torchviz) (0.21)\n",
            "Requirement already satisfied: filelock in /usr/local/lib/python3.12/dist-packages (from torch->torchviz) (3.19.1)\n",
            "Requirement already satisfied: typing-extensions>=4.10.0 in /usr/local/lib/python3.12/dist-packages (from torch->torchviz) (4.15.0)\n",
            "Requirement already satisfied: setuptools in /usr/local/lib/python3.12/dist-packages (from torch->torchviz) (75.2.0)\n",
            "Requirement already satisfied: sympy>=1.13.3 in /usr/local/lib/python3.12/dist-packages (from torch->torchviz) (1.13.3)\n",
            "Requirement already satisfied: networkx in /usr/local/lib/python3.12/dist-packages (from torch->torchviz) (3.5)\n",
            "Requirement already satisfied: jinja2 in /usr/local/lib/python3.12/dist-packages (from torch->torchviz) (3.1.6)\n",
            "Requirement already satisfied: fsspec in /usr/local/lib/python3.12/dist-packages (from torch->torchviz) (2025.3.0)\n",
            "Requirement already satisfied: nvidia-cuda-nvrtc-cu12==12.6.77 in /usr/local/lib/python3.12/dist-packages (from torch->torchviz) (12.6.77)\n",
            "Requirement already satisfied: nvidia-cuda-runtime-cu12==12.6.77 in /usr/local/lib/python3.12/dist-packages (from torch->torchviz) (12.6.77)\n",
            "Requirement already satisfied: nvidia-cuda-cupti-cu12==12.6.80 in /usr/local/lib/python3.12/dist-packages (from torch->torchviz) (12.6.80)\n",
            "Requirement already satisfied: nvidia-cudnn-cu12==9.10.2.21 in /usr/local/lib/python3.12/dist-packages (from torch->torchviz) (9.10.2.21)\n",
            "Requirement already satisfied: nvidia-cublas-cu12==12.6.4.1 in /usr/local/lib/python3.12/dist-packages (from torch->torchviz) (12.6.4.1)\n",
            "Requirement already satisfied: nvidia-cufft-cu12==11.3.0.4 in /usr/local/lib/python3.12/dist-packages (from torch->torchviz) (11.3.0.4)\n",
            "Requirement already satisfied: nvidia-curand-cu12==10.3.7.77 in /usr/local/lib/python3.12/dist-packages (from torch->torchviz) (10.3.7.77)\n",
            "Requirement already satisfied: nvidia-cusolver-cu12==11.7.1.2 in /usr/local/lib/python3.12/dist-packages (from torch->torchviz) (11.7.1.2)\n",
            "Requirement already satisfied: nvidia-cusparse-cu12==12.5.4.2 in /usr/local/lib/python3.12/dist-packages (from torch->torchviz) (12.5.4.2)\n",
            "Requirement already satisfied: nvidia-cusparselt-cu12==0.7.1 in /usr/local/lib/python3.12/dist-packages (from torch->torchviz) (0.7.1)\n",
            "Requirement already satisfied: nvidia-nccl-cu12==2.27.3 in /usr/local/lib/python3.12/dist-packages (from torch->torchviz) (2.27.3)\n",
            "Requirement already satisfied: nvidia-nvtx-cu12==12.6.77 in /usr/local/lib/python3.12/dist-packages (from torch->torchviz) (12.6.77)\n",
            "Requirement already satisfied: nvidia-nvjitlink-cu12==12.6.85 in /usr/local/lib/python3.12/dist-packages (from torch->torchviz) (12.6.85)\n",
            "Requirement already satisfied: nvidia-cufile-cu12==1.11.1.6 in /usr/local/lib/python3.12/dist-packages (from torch->torchviz) (1.11.1.6)\n",
            "Requirement already satisfied: triton==3.4.0 in /usr/local/lib/python3.12/dist-packages (from torch->torchviz) (3.4.0)\n",
            "Requirement already satisfied: mpmath<1.4,>=1.1.0 in /usr/local/lib/python3.12/dist-packages (from sympy>=1.13.3->torch->torchviz) (1.3.0)\n",
            "Requirement already satisfied: MarkupSafe>=2.0 in /usr/local/lib/python3.12/dist-packages (from jinja2->torch->torchviz) (3.0.2)\n",
            "Downloading torchviz-0.0.3-py3-none-any.whl (5.7 kB)\n",
            "Installing collected packages: torchviz\n",
            "Successfully installed torchviz-0.0.3\n"
          ]
        }
      ]
    },
    {
      "cell_type": "code",
      "execution_count": 3,
      "metadata": {
        "vscode": {
          "languageId": "plaintext"
        },
        "id": "0ca5a54c"
      },
      "outputs": [],
      "source": [
        "import torch\n",
        "import torch.nn as nn\n",
        "from torchviz import make_dot"
      ],
      "id": "0ca5a54c"
    },
    {
      "cell_type": "code",
      "source": [
        "# Define a simple PyTorch model\n",
        "class SimpleNN(nn.Module):\n",
        "    def __init__(self):  # <-- fixed here\n",
        "        super(SimpleNN, self).__init__()\n",
        "        self.fc1 = nn.Linear(10, 5)\n",
        "        self.relu = nn.ReLU()\n",
        "        self.fc2 = nn.Linear(5, 1)\n",
        "\n",
        "    def forward(self, x):\n",
        "        x = self.fc1(x)\n",
        "        x = self.relu(x)\n",
        "        x = self.fc2(x)\n",
        "        return x"
      ],
      "metadata": {
        "id": "jV3RZD2NzQ0Z"
      },
      "id": "jV3RZD2NzQ0Z",
      "execution_count": 9,
      "outputs": []
    },
    {
      "cell_type": "code",
      "source": [
        "\n",
        "# Create an instance of the model\n",
        "model_torch = SimpleNN()\n"
      ],
      "metadata": {
        "id": "2GauDXlWzYXz"
      },
      "id": "2GauDXlWzYXz",
      "execution_count": 10,
      "outputs": []
    },
    {
      "cell_type": "code",
      "source": [
        "# Create a dummy input tensor\n",
        "dummy_input = torch.randn(1, 10)\n",
        "\n"
      ],
      "metadata": {
        "id": "-oxsNGxkzhue"
      },
      "id": "-oxsNGxkzhue",
      "execution_count": 11,
      "outputs": []
    },
    {
      "cell_type": "code",
      "source": [
        "# Generate the computational graph\n",
        "dot = make_dot(model_torch(dummy_input), params=dict(model_torch.named_parameters()))\n",
        "\n"
      ],
      "metadata": {
        "id": "7-VzJlByzm7l"
      },
      "id": "7-VzJlByzm7l",
      "execution_count": 12,
      "outputs": []
    },
    {
      "cell_type": "code",
      "source": [
        "# Display the graph\n",
        "dot"
      ],
      "metadata": {
        "colab": {
          "base_uri": "https://localhost:8080/",
          "height": 572
        },
        "id": "KNo16TA2zpId",
        "outputId": "b3c1d5ac-9838-4761-9006-8e94b81624f6"
      },
      "id": "KNo16TA2zpId",
      "execution_count": 13,
      "outputs": [
        {
          "output_type": "execute_result",
          "data": {
            "image/svg+xml": "<?xml version=\"1.0\" encoding=\"UTF-8\" standalone=\"no\"?>\n<!DOCTYPE svg PUBLIC \"-//W3C//DTD SVG 1.1//EN\"\n \"http://www.w3.org/Graphics/SVG/1.1/DTD/svg11.dtd\">\n<!-- Generated by graphviz version 2.43.0 (0)\n -->\n<!-- Title: %3 Pages: 1 -->\n<svg width=\"340pt\" height=\"413pt\"\n viewBox=\"0.00 0.00 340.00 413.00\" xmlns=\"http://www.w3.org/2000/svg\" xmlns:xlink=\"http://www.w3.org/1999/xlink\">\n<g id=\"graph0\" class=\"graph\" transform=\"scale(1 1) rotate(0) translate(4 409)\">\n<title>%3</title>\n<polygon fill=\"white\" stroke=\"transparent\" points=\"-4,4 -4,-409 336,-409 336,4 -4,4\"/>\n<!-- 140385151282112 -->\n<g id=\"node1\" class=\"node\">\n<title>140385151282112</title>\n<polygon fill=\"#caff70\" stroke=\"black\" points=\"196,-31 137,-31 137,0 196,0 196,-31\"/>\n<text text-anchor=\"middle\" x=\"166.5\" y=\"-7\" font-family=\"monospace\" font-size=\"10.00\"> (1, 1)</text>\n</g>\n<!-- 140385151417600 -->\n<g id=\"node2\" class=\"node\">\n<title>140385151417600</title>\n<polygon fill=\"lightgrey\" stroke=\"black\" points=\"217,-86 116,-86 116,-67 217,-67 217,-86\"/>\n<text text-anchor=\"middle\" x=\"166.5\" y=\"-74\" font-family=\"monospace\" font-size=\"10.00\">AddmmBackward0</text>\n</g>\n<!-- 140385151417600&#45;&gt;140385151282112 -->\n<g id=\"edge13\" class=\"edge\">\n<title>140385151417600&#45;&gt;140385151282112</title>\n<path fill=\"none\" stroke=\"black\" d=\"M166.5,-66.79C166.5,-60.07 166.5,-50.4 166.5,-41.34\"/>\n<polygon fill=\"black\" stroke=\"black\" points=\"170,-41.19 166.5,-31.19 163,-41.19 170,-41.19\"/>\n</g>\n<!-- 140385151176464 -->\n<g id=\"node3\" class=\"node\">\n<title>140385151176464</title>\n<polygon fill=\"lightgrey\" stroke=\"black\" points=\"101,-141 0,-141 0,-122 101,-122 101,-141\"/>\n<text text-anchor=\"middle\" x=\"50.5\" y=\"-129\" font-family=\"monospace\" font-size=\"10.00\">AccumulateGrad</text>\n</g>\n<!-- 140385151176464&#45;&gt;140385151417600 -->\n<g id=\"edge1\" class=\"edge\">\n<title>140385151176464&#45;&gt;140385151417600</title>\n<path fill=\"none\" stroke=\"black\" d=\"M69.14,-121.98C87.8,-113.46 116.75,-100.23 138.24,-90.41\"/>\n<polygon fill=\"black\" stroke=\"black\" points=\"139.88,-93.51 147.52,-86.17 136.97,-87.14 139.88,-93.51\"/>\n</g>\n<!-- 140385150945552 -->\n<g id=\"node4\" class=\"node\">\n<title>140385150945552</title>\n<polygon fill=\"lightblue\" stroke=\"black\" points=\"83,-207 18,-207 18,-177 83,-177 83,-207\"/>\n<text text-anchor=\"middle\" x=\"50.5\" y=\"-195\" font-family=\"monospace\" font-size=\"10.00\">fc2.bias</text>\n<text text-anchor=\"middle\" x=\"50.5\" y=\"-184\" font-family=\"monospace\" font-size=\"10.00\"> (1)</text>\n</g>\n<!-- 140385150945552&#45;&gt;140385151176464 -->\n<g id=\"edge2\" class=\"edge\">\n<title>140385150945552&#45;&gt;140385151176464</title>\n<path fill=\"none\" stroke=\"black\" d=\"M50.5,-176.84C50.5,-169.21 50.5,-159.7 50.5,-151.45\"/>\n<polygon fill=\"black\" stroke=\"black\" points=\"54,-151.27 50.5,-141.27 47,-151.27 54,-151.27\"/>\n</g>\n<!-- 140385151417552 -->\n<g id=\"node5\" class=\"node\">\n<title>140385151417552</title>\n<polygon fill=\"lightgrey\" stroke=\"black\" points=\"214,-141 119,-141 119,-122 214,-122 214,-141\"/>\n<text text-anchor=\"middle\" x=\"166.5\" y=\"-129\" font-family=\"monospace\" font-size=\"10.00\">ReluBackward0</text>\n</g>\n<!-- 140385151417552&#45;&gt;140385151417600 -->\n<g id=\"edge3\" class=\"edge\">\n<title>140385151417552&#45;&gt;140385151417600</title>\n<path fill=\"none\" stroke=\"black\" d=\"M166.5,-121.75C166.5,-114.8 166.5,-104.85 166.5,-96.13\"/>\n<polygon fill=\"black\" stroke=\"black\" points=\"170,-96.09 166.5,-86.09 163,-96.09 170,-96.09\"/>\n</g>\n<!-- 140385151354144 -->\n<g id=\"node6\" class=\"node\">\n<title>140385151354144</title>\n<polygon fill=\"lightgrey\" stroke=\"black\" points=\"213,-201.5 112,-201.5 112,-182.5 213,-182.5 213,-201.5\"/>\n<text text-anchor=\"middle\" x=\"162.5\" y=\"-189.5\" font-family=\"monospace\" font-size=\"10.00\">AddmmBackward0</text>\n</g>\n<!-- 140385151354144&#45;&gt;140385151417552 -->\n<g id=\"edge4\" class=\"edge\">\n<title>140385151354144&#45;&gt;140385151417552</title>\n<path fill=\"none\" stroke=\"black\" d=\"M163.09,-182.37C163.65,-174.25 164.5,-161.81 165.21,-151.39\"/>\n<polygon fill=\"black\" stroke=\"black\" points=\"168.72,-151.38 165.91,-141.17 161.73,-150.91 168.72,-151.38\"/>\n</g>\n<!-- 140385151354048 -->\n<g id=\"node7\" class=\"node\">\n<title>140385151354048</title>\n<polygon fill=\"lightgrey\" stroke=\"black\" points=\"118,-267.5 17,-267.5 17,-248.5 118,-248.5 118,-267.5\"/>\n<text text-anchor=\"middle\" x=\"67.5\" y=\"-255.5\" font-family=\"monospace\" font-size=\"10.00\">AccumulateGrad</text>\n</g>\n<!-- 140385151354048&#45;&gt;140385151354144 -->\n<g id=\"edge5\" class=\"edge\">\n<title>140385151354048&#45;&gt;140385151354144</title>\n<path fill=\"none\" stroke=\"black\" d=\"M80.31,-248.37C95.89,-237.87 122.43,-220 141.12,-207.4\"/>\n<polygon fill=\"black\" stroke=\"black\" points=\"143.25,-210.19 149.59,-201.7 139.34,-204.38 143.25,-210.19\"/>\n</g>\n<!-- 140385150947152 -->\n<g id=\"node8\" class=\"node\">\n<title>140385150947152</title>\n<polygon fill=\"lightblue\" stroke=\"black\" points=\"100,-339 35,-339 35,-309 100,-309 100,-339\"/>\n<text text-anchor=\"middle\" x=\"67.5\" y=\"-327\" font-family=\"monospace\" font-size=\"10.00\">fc1.bias</text>\n<text text-anchor=\"middle\" x=\"67.5\" y=\"-316\" font-family=\"monospace\" font-size=\"10.00\"> (5)</text>\n</g>\n<!-- 140385150947152&#45;&gt;140385151354048 -->\n<g id=\"edge6\" class=\"edge\">\n<title>140385150947152&#45;&gt;140385151354048</title>\n<path fill=\"none\" stroke=\"black\" d=\"M67.5,-308.8C67.5,-299.7 67.5,-287.79 67.5,-277.9\"/>\n<polygon fill=\"black\" stroke=\"black\" points=\"71,-277.84 67.5,-267.84 64,-277.84 71,-277.84\"/>\n</g>\n<!-- 140385151354288 -->\n<g id=\"node9\" class=\"node\">\n<title>140385151354288</title>\n<polygon fill=\"lightgrey\" stroke=\"black\" points=\"213,-267.5 136,-267.5 136,-248.5 213,-248.5 213,-267.5\"/>\n<text text-anchor=\"middle\" x=\"174.5\" y=\"-255.5\" font-family=\"monospace\" font-size=\"10.00\">TBackward0</text>\n</g>\n<!-- 140385151354288&#45;&gt;140385151354144 -->\n<g id=\"edge7\" class=\"edge\">\n<title>140385151354288&#45;&gt;140385151354144</title>\n<path fill=\"none\" stroke=\"black\" d=\"M172.88,-248.37C171.14,-239.07 168.31,-223.98 166.04,-211.9\"/>\n<polygon fill=\"black\" stroke=\"black\" points=\"169.45,-211.09 164.17,-201.91 162.57,-212.38 169.45,-211.09\"/>\n</g>\n<!-- 140385151354576 -->\n<g id=\"node10\" class=\"node\">\n<title>140385151354576</title>\n<polygon fill=\"lightgrey\" stroke=\"black\" points=\"225,-333.5 124,-333.5 124,-314.5 225,-314.5 225,-333.5\"/>\n<text text-anchor=\"middle\" x=\"174.5\" y=\"-321.5\" font-family=\"monospace\" font-size=\"10.00\">AccumulateGrad</text>\n</g>\n<!-- 140385151354576&#45;&gt;140385151354288 -->\n<g id=\"edge8\" class=\"edge\">\n<title>140385151354576&#45;&gt;140385151354288</title>\n<path fill=\"none\" stroke=\"black\" d=\"M174.5,-314.37C174.5,-305.16 174.5,-290.29 174.5,-278.27\"/>\n<polygon fill=\"black\" stroke=\"black\" points=\"178,-277.91 174.5,-267.91 171,-277.91 178,-277.91\"/>\n</g>\n<!-- 140381199886656 -->\n<g id=\"node11\" class=\"node\">\n<title>140381199886656</title>\n<polygon fill=\"lightblue\" stroke=\"black\" points=\"213,-405 136,-405 136,-375 213,-375 213,-405\"/>\n<text text-anchor=\"middle\" x=\"174.5\" y=\"-393\" font-family=\"monospace\" font-size=\"10.00\">fc1.weight</text>\n<text text-anchor=\"middle\" x=\"174.5\" y=\"-382\" font-family=\"monospace\" font-size=\"10.00\"> (5, 10)</text>\n</g>\n<!-- 140381199886656&#45;&gt;140385151354576 -->\n<g id=\"edge9\" class=\"edge\">\n<title>140381199886656&#45;&gt;140385151354576</title>\n<path fill=\"none\" stroke=\"black\" d=\"M174.5,-374.8C174.5,-365.7 174.5,-353.79 174.5,-343.9\"/>\n<polygon fill=\"black\" stroke=\"black\" points=\"178,-343.84 174.5,-333.84 171,-343.84 178,-343.84\"/>\n</g>\n<!-- 140385151417792 -->\n<g id=\"node12\" class=\"node\">\n<title>140385151417792</title>\n<polygon fill=\"lightgrey\" stroke=\"black\" points=\"313,-141 236,-141 236,-122 313,-122 313,-141\"/>\n<text text-anchor=\"middle\" x=\"274.5\" y=\"-129\" font-family=\"monospace\" font-size=\"10.00\">TBackward0</text>\n</g>\n<!-- 140385151417792&#45;&gt;140385151417600 -->\n<g id=\"edge10\" class=\"edge\">\n<title>140385151417792&#45;&gt;140385151417600</title>\n<path fill=\"none\" stroke=\"black\" d=\"M257.15,-121.98C239.93,-113.54 213.3,-100.47 193.35,-90.68\"/>\n<polygon fill=\"black\" stroke=\"black\" points=\"194.69,-87.43 184.17,-86.17 191.6,-93.72 194.69,-87.43\"/>\n</g>\n<!-- 140385151354192 -->\n<g id=\"node13\" class=\"node\">\n<title>140385151354192</title>\n<polygon fill=\"lightgrey\" stroke=\"black\" points=\"332,-201.5 231,-201.5 231,-182.5 332,-182.5 332,-201.5\"/>\n<text text-anchor=\"middle\" x=\"281.5\" y=\"-189.5\" font-family=\"monospace\" font-size=\"10.00\">AccumulateGrad</text>\n</g>\n<!-- 140385151354192&#45;&gt;140385151417792 -->\n<g id=\"edge11\" class=\"edge\">\n<title>140385151354192&#45;&gt;140385151417792</title>\n<path fill=\"none\" stroke=\"black\" d=\"M280.47,-182.37C279.5,-174.25 278.01,-161.81 276.76,-151.39\"/>\n<polygon fill=\"black\" stroke=\"black\" points=\"280.2,-150.68 275.54,-141.17 273.25,-151.51 280.2,-150.68\"/>\n</g>\n<!-- 140385421726480 -->\n<g id=\"node14\" class=\"node\">\n<title>140385421726480</title>\n<polygon fill=\"lightblue\" stroke=\"black\" points=\"320,-273 243,-273 243,-243 320,-243 320,-273\"/>\n<text text-anchor=\"middle\" x=\"281.5\" y=\"-261\" font-family=\"monospace\" font-size=\"10.00\">fc2.weight</text>\n<text text-anchor=\"middle\" x=\"281.5\" y=\"-250\" font-family=\"monospace\" font-size=\"10.00\"> (1, 5)</text>\n</g>\n<!-- 140385421726480&#45;&gt;140385151354192 -->\n<g id=\"edge12\" class=\"edge\">\n<title>140385421726480&#45;&gt;140385151354192</title>\n<path fill=\"none\" stroke=\"black\" d=\"M281.5,-242.8C281.5,-233.7 281.5,-221.79 281.5,-211.9\"/>\n<polygon fill=\"black\" stroke=\"black\" points=\"285,-211.84 281.5,-201.84 278,-211.84 285,-211.84\"/>\n</g>\n</g>\n</svg>\n",
            "text/plain": [
              "<graphviz.graphs.Digraph at 0x7fadf714faa0>"
            ]
          },
          "metadata": {},
          "execution_count": 13
        }
      ]
    }
  ],
  "metadata": {
    "language_info": {
      "name": "python"
    },
    "colab": {
      "provenance": []
    },
    "kernelspec": {
      "name": "python3",
      "display_name": "Python 3"
    }
  },
  "nbformat": 4,
  "nbformat_minor": 5
}